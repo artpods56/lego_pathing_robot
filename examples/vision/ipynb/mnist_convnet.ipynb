{
  "cells": [
    {
      "cell_type": "markdown",
      "metadata": {
        "id": "view-in-github",
        "colab_type": "text"
      },
      "source": [
        "<a href=\"https://colab.research.google.com/github/artpods56/lego_pathing_robot/blob/main/examples/vision/ipynb/mnist_convnet.ipynb\" target=\"_parent\"><img src=\"https://colab.research.google.com/assets/colab-badge.svg\" alt=\"Open In Colab\"/></a>"
      ]
    },
    {
      "cell_type": "markdown",
      "metadata": {
        "id": "5KELAt7RZ6p1"
      },
      "source": [
        "# Simple MNIST convnet\n",
        "\n",
        "**Author:** [fchollet](https://twitter.com/fchollet)<br>\n",
        "**Date created:** 2015/06/19<br>\n",
        "**Last modified:** 2020/04/21<br>\n",
        "**Description:** A simple convnet that achieves ~99% test accuracy on MNIST."
      ]
    },
    {
      "cell_type": "markdown",
      "metadata": {
        "id": "ZMSNxvTzZ6p6"
      },
      "source": [
        "## Setup"
      ]
    },
    {
      "cell_type": "code",
      "execution_count": 1,
      "metadata": {
        "id": "Quet54sCZ6p7"
      },
      "outputs": [],
      "source": [
        "import numpy as np\n",
        "import math\n",
        "import matplotlib.pyplot as plt\n",
        "from tensorflow import keras\n",
        "from tensorflow.keras import layers\n",
        "from PIL import Image\n",
        "\n"
      ]
    },
    {
      "cell_type": "markdown",
      "metadata": {
        "id": "Q-0Gxu4NZ6p9"
      },
      "source": [
        "## Prepare the data"
      ]
    },
    {
      "cell_type": "code",
      "execution_count": 2,
      "metadata": {
        "colab": {
          "base_uri": "https://localhost:8080/"
        },
        "id": "Zcy_iSKpZ6p9",
        "outputId": "6a2592de-7c76-4c04-bbf5-593e3a77ab39"
      },
      "outputs": [
        {
          "output_type": "stream",
          "name": "stdout",
          "text": [
            "Downloading data from https://storage.googleapis.com/tensorflow/tf-keras-datasets/mnist.npz\n",
            "11490434/11490434 [==============================] - 1s 0us/step\n",
            "x_train shape: (60000, 28, 28, 1)\n",
            "60000 train samples\n",
            "10000 test samples\n"
          ]
        }
      ],
      "source": [
        "# Model / data parameters\n",
        "num_classes = 10\n",
        "input_shape = (28, 28, 1)\n",
        "\n",
        "# Load the data and split it between train and test sets\n",
        "(x_train, y_train), (x_test, y_test) = keras.datasets.mnist.load_data()\n",
        "\n",
        "# Scale images to the [0, 1] range\n",
        "x_train = x_train.astype(\"float32\") / 255\n",
        "x_test = x_test.astype(\"float32\") / 255\n",
        "# Make sure images have shape (28, 28, 1)\n",
        "x_train = np.expand_dims(x_train, -1)\n",
        "x_test = np.expand_dims(x_test, -1)\n",
        "print(\"x_train shape:\", x_train.shape)\n",
        "print(x_train.shape[0], \"train samples\")\n",
        "print(x_test.shape[0], \"test samples\")\n",
        "\n",
        "\n",
        "# convert class vectors to binary class matrices\n",
        "y_train = keras.utils.to_categorical(y_train, num_classes)\n",
        "y_test = keras.utils.to_categorical(y_test, num_classes)"
      ]
    },
    {
      "cell_type": "markdown",
      "metadata": {
        "id": "Ah0X_GPFZ6p-"
      },
      "source": [
        "## Build the model"
      ]
    },
    {
      "cell_type": "code",
      "execution_count": 3,
      "metadata": {
        "colab": {
          "base_uri": "https://localhost:8080/"
        },
        "id": "OLRBO64IZ6p-",
        "outputId": "8bff064d-0b6c-4ebe-88fd-7cc3478f9696"
      },
      "outputs": [
        {
          "output_type": "stream",
          "name": "stdout",
          "text": [
            "Model: \"sequential\"\n",
            "_________________________________________________________________\n",
            " Layer (type)                Output Shape              Param #   \n",
            "=================================================================\n",
            " conv2d (Conv2D)             (None, 26, 26, 32)        320       \n",
            "                                                                 \n",
            " max_pooling2d (MaxPooling2D  (None, 13, 13, 32)       0         \n",
            " )                                                               \n",
            "                                                                 \n",
            " conv2d_1 (Conv2D)           (None, 11, 11, 64)        18496     \n",
            "                                                                 \n",
            " max_pooling2d_1 (MaxPooling  (None, 5, 5, 64)         0         \n",
            " 2D)                                                             \n",
            "                                                                 \n",
            " flatten (Flatten)           (None, 1600)              0         \n",
            "                                                                 \n",
            " dropout (Dropout)           (None, 1600)              0         \n",
            "                                                                 \n",
            " dense (Dense)               (None, 10)                16010     \n",
            "                                                                 \n",
            "=================================================================\n",
            "Total params: 34,826\n",
            "Trainable params: 34,826\n",
            "Non-trainable params: 0\n",
            "_________________________________________________________________\n"
          ]
        }
      ],
      "source": [
        "model = keras.Sequential(\n",
        "    [\n",
        "        keras.Input(shape=input_shape),\n",
        "        layers.Conv2D(32, kernel_size=(3, 3), activation=\"relu\"),\n",
        "        layers.MaxPooling2D(pool_size=(2, 2)),\n",
        "        layers.Conv2D(64, kernel_size=(3, 3), activation=\"relu\"),\n",
        "        layers.MaxPooling2D(pool_size=(2, 2)),\n",
        "        layers.Flatten(),\n",
        "        layers.Dropout(0.5),\n",
        "        layers.Dense(num_classes, activation=\"softmax\"),\n",
        "    ]\n",
        ")\n",
        "\n",
        "model.summary()"
      ]
    },
    {
      "cell_type": "markdown",
      "metadata": {
        "id": "9CjVBDs8Z6p_"
      },
      "source": [
        "## Train the model"
      ]
    },
    {
      "cell_type": "code",
      "execution_count": 4,
      "metadata": {
        "colab": {
          "base_uri": "https://localhost:8080/"
        },
        "id": "fJ1v8eiJZ6qA",
        "outputId": "0e14464e-e5bd-4e27-c568-f4913dfcba39"
      },
      "outputs": [
        {
          "output_type": "stream",
          "name": "stdout",
          "text": [
            "Epoch 1/15\n",
            "422/422 [==============================] - 13s 8ms/step - loss: 0.3690 - accuracy: 0.8858 - val_loss: 0.0836 - val_accuracy: 0.9768\n",
            "Epoch 2/15\n",
            "422/422 [==============================] - 3s 7ms/step - loss: 0.1129 - accuracy: 0.9651 - val_loss: 0.0551 - val_accuracy: 0.9847\n",
            "Epoch 3/15\n",
            "422/422 [==============================] - 3s 7ms/step - loss: 0.0861 - accuracy: 0.9732 - val_loss: 0.0468 - val_accuracy: 0.9880\n",
            "Epoch 4/15\n",
            "422/422 [==============================] - 3s 6ms/step - loss: 0.0705 - accuracy: 0.9782 - val_loss: 0.0397 - val_accuracy: 0.9887\n",
            "Epoch 5/15\n",
            "422/422 [==============================] - 2s 6ms/step - loss: 0.0610 - accuracy: 0.9806 - val_loss: 0.0395 - val_accuracy: 0.9893\n",
            "Epoch 6/15\n",
            "422/422 [==============================] - 2s 6ms/step - loss: 0.0568 - accuracy: 0.9822 - val_loss: 0.0349 - val_accuracy: 0.9910\n",
            "Epoch 7/15\n",
            "422/422 [==============================] - 3s 8ms/step - loss: 0.0533 - accuracy: 0.9831 - val_loss: 0.0352 - val_accuracy: 0.9907\n",
            "Epoch 8/15\n",
            "422/422 [==============================] - 3s 7ms/step - loss: 0.0489 - accuracy: 0.9844 - val_loss: 0.0343 - val_accuracy: 0.9900\n",
            "Epoch 9/15\n",
            "422/422 [==============================] - 3s 7ms/step - loss: 0.0461 - accuracy: 0.9859 - val_loss: 0.0310 - val_accuracy: 0.9910\n",
            "Epoch 10/15\n",
            "422/422 [==============================] - 3s 7ms/step - loss: 0.0443 - accuracy: 0.9860 - val_loss: 0.0330 - val_accuracy: 0.9912\n",
            "Epoch 11/15\n",
            "422/422 [==============================] - 3s 8ms/step - loss: 0.0390 - accuracy: 0.9872 - val_loss: 0.0324 - val_accuracy: 0.9925\n",
            "Epoch 12/15\n",
            "422/422 [==============================] - 3s 7ms/step - loss: 0.0386 - accuracy: 0.9872 - val_loss: 0.0327 - val_accuracy: 0.9918\n",
            "Epoch 13/15\n",
            "422/422 [==============================] - 3s 7ms/step - loss: 0.0379 - accuracy: 0.9878 - val_loss: 0.0311 - val_accuracy: 0.9925\n",
            "Epoch 14/15\n",
            "422/422 [==============================] - 3s 7ms/step - loss: 0.0348 - accuracy: 0.9889 - val_loss: 0.0294 - val_accuracy: 0.9922\n",
            "Epoch 15/15\n",
            "422/422 [==============================] - 3s 8ms/step - loss: 0.0342 - accuracy: 0.9887 - val_loss: 0.0298 - val_accuracy: 0.9928\n"
          ]
        },
        {
          "output_type": "execute_result",
          "data": {
            "text/plain": [
              "<keras.callbacks.History at 0x7f87c265ca90>"
            ]
          },
          "metadata": {},
          "execution_count": 4
        }
      ],
      "source": [
        "batch_size = 128\n",
        "epochs = 15\n",
        "\n",
        "model.compile(loss=\"categorical_crossentropy\", optimizer=\"adam\", metrics=[\"accuracy\"])\n",
        "\n",
        "model.fit(x_train, y_train, batch_size=batch_size, epochs=epochs, validation_split=0.1)"
      ]
    },
    {
      "cell_type": "markdown",
      "metadata": {
        "id": "hVLXwxboZ6qA"
      },
      "source": [
        "## Evaluate the trained model"
      ]
    },
    {
      "cell_type": "code",
      "execution_count": 5,
      "metadata": {
        "colab": {
          "base_uri": "https://localhost:8080/"
        },
        "id": "4FJKO4ajZ6qB",
        "outputId": "bc2de81a-d556-48e0-baeb-c744d4b7738e"
      },
      "outputs": [
        {
          "output_type": "stream",
          "name": "stdout",
          "text": [
            "Test loss: 0.025521131232380867\n",
            "Test accuracy: 0.9915000200271606\n"
          ]
        }
      ],
      "source": [
        "score = model.evaluate(x_test, y_test, verbose=0)\n",
        "print(\"Test loss:\", score[0])\n",
        "print(\"Test accuracy:\", score[1])"
      ]
    },
    {
      "cell_type": "code",
      "source": [
        "log = [[29, -3.0], [29, -3.0], [30, -3.0], [30, -3.5], [29, 7.5], [30, -4.0], [30, -1.0], [30, -1.0], [30, -1.0], [31, 3.5], [29, 4.0], [1, -90], [30, -5.0], [31, -5.0], [29, -20.0], [29, -11.0], [30, -5.5], [31, 0.0], [29, 1.0], [31, -1.0], [30, -3.5], [29, -3.5], [31, 3.5], [29, 12.0], [31, 11.0], [30, 20.5], [29, 20.5], [30, 9.0], [31, 17.5], [29, 15.0], [31, 9.0], [29, 20.5], [30, 4.5], [31, 14.0], [29, 13.0], [30, 10.5], [32, 9.0], [28, 3.0], [31, 3.0], [30, 13.0], [29, 9.5], [0, -90], [31, -90]] \n",
        "class robot:\n",
        "    def __init__(self):\n",
        "        self.pos_x = [0]\n",
        "        self.pos_y = [0]\n",
        "        self.angle = 20\n",
        "        \n",
        "        \n",
        "    def move(self,distance,ang):\n",
        "        self.angle += ang\n",
        "        \n",
        "        x, y = self.pos_x[-1], self.pos_y[-1]\n",
        "        x += math.cos(math.radians(self.angle))*distance\n",
        "        y += math.sin(math.radians(self.angle))*distance\n",
        "        \n",
        "        self.pos_x.append(x)\n",
        "        self.pos_y.append(y)\n",
        "        \n",
        "    def draw(self, keep_axes=True):\n",
        "        x = plt.plot(self.pos_x,self.pos_y)\n",
        "        \n",
        "        \n",
        "robo = robot()\n",
        "for values in log:\n",
        "    robo.move(abs(values[0])/25,values[1])\n",
        "\n",
        "\n",
        "x_cords = robo.pos_x\n",
        "y_cords = robo.pos_y\n",
        "\n",
        "min_x = int(abs(min(x_cords)))\n",
        "max_x = int(abs(max(x_cords)))\n",
        "min_y = int(abs(min(y_cords)))\n",
        "max_y = int(abs(max(y_cords)))\n",
        "\n",
        "\n",
        "width, height = min_y+max_y+1,min_x+max_x+1\n",
        "\n",
        "grid = np.array([[255 for y in range(height)] for x in range(width)])\n",
        "print(grid.shape)\n",
        "\n",
        "\n",
        "\n",
        "\n",
        "print(grid[0])\n",
        "print(len(grid))\n",
        "\n",
        "tSize = 28\n",
        "x, x1 = tSize - len(grid), tSize - len(grid)\n",
        "y, y1 = tSize - len(grid[0]), tSize - len(grid[0])\n",
        "\n",
        "\n",
        "    \n",
        "\n",
        "\n",
        "print(grid)\n",
        "\n",
        "#print(grid)"
      ],
      "metadata": {
        "colab": {
          "base_uri": "https://localhost:8080/"
        },
        "id": "nx1w9MVmcszG",
        "outputId": "be07d894-18b0-44ce-daa8-8b57aaca452e"
      },
      "execution_count": 38,
      "outputs": [
        {
          "output_type": "stream",
          "name": "stdout",
          "text": [
            "(18, 19)\n",
            "[255 255 255 255 255 255 255 255 255 255 255 255 255 255 255 255 255 255\n",
            " 255]\n",
            "18\n",
            "[[255 255 255 255 255 255 255 255 255 255 255 255 255 255 255 255 255 255\n",
            "  255]\n",
            " [255 255 255 255 255 255 255 255 255 255 255 255 255 255 255 255 255 255\n",
            "  255]\n",
            " [255 255 255 255 255 255 255 255 255 255 255 255 255 255 255 255 255 255\n",
            "  255]\n",
            " [255 255 255 255 255 255 255 255 255 255 255 255 255 255 255 255 255 255\n",
            "  255]\n",
            " [255 255 255 255 255 255 255 255 255 255 255 255 255 255 255 255 255 255\n",
            "  255]\n",
            " [255 255 255 255 255 255 255 255 255 255 255 255 255 255 255 255 255 255\n",
            "  255]\n",
            " [255 255 255 255 255 255 255 255 255 255 255 255 255 255 255 255 255 255\n",
            "  255]\n",
            " [255 255 255 255 255 255 255 255 255 255 255 255 255 255 255 255 255 255\n",
            "  255]\n",
            " [255 255 255 255 255 255 255 255 255 255 255 255 255 255 255 255 255 255\n",
            "  255]\n",
            " [255 255 255 255 255 255 255 255 255 255 255 255 255 255 255 255 255 255\n",
            "  255]\n",
            " [255 255 255 255 255 255 255 255 255 255 255 255 255 255 255 255 255 255\n",
            "  255]\n",
            " [255 255 255 255 255 255 255 255 255 255 255 255 255 255 255 255 255 255\n",
            "  255]\n",
            " [255 255 255 255 255 255 255 255 255 255 255 255 255 255 255 255 255 255\n",
            "  255]\n",
            " [255 255 255 255 255 255 255 255 255 255 255 255 255 255 255 255 255 255\n",
            "  255]\n",
            " [255 255 255 255 255 255 255 255 255 255 255 255 255 255 255 255 255 255\n",
            "  255]\n",
            " [255 255 255 255 255 255 255 255 255 255 255 255 255 255 255 255 255 255\n",
            "  255]\n",
            " [255 255 255 255 255 255 255 255 255 255 255 255 255 255 255 255 255 255\n",
            "  255]\n",
            " [255 255 255 255 255 255 255 255 255 255 255 255 255 255 255 255 255 255\n",
            "  255]]\n"
          ]
        }
      ]
    },
    {
      "cell_type": "code",
      "source": [
        "def fill(grid, x, x1, y, y1):\n",
        "  \n",
        "  \n",
        "  \n",
        "  while len(grid) < 28:\n",
        "    a = np.array([255 for i in range(19)])\n",
        "    if x > x1//2:\n",
        "      grid = np.vstack((a, grid))\n",
        "    elif x <= x1//2 and x >= 0:\n",
        "      grid = np.vstack((grid, a))\n",
        "    x -= 1\n",
        "  list(grid)\n",
        "  w = grid.tolist()\n",
        "  for n in w:\n",
        "    while len(n) < 28:\n",
        "      if y > y1//2:\n",
        "        n.insert(0, 255)\n",
        "        \n",
        "   # print(len(n))\n",
        "    \n",
        "  grid1 = np.array(w)\n",
        "\n",
        "  \n",
        "    \n",
        "  \n",
        "  print(grid1.shape)\n",
        "  return grid1\n",
        "\n",
        "\n",
        "a = fill(grid, x, x1, y, y1)\n",
        "for x,y in zip(x_cords,y_cords):\n",
        "    x,y = int(x),int(y)\n",
        "    #plt.scatter(x, y)\n",
        "    \n",
        "    a[y+min_y-25][x+min_x-20] = 0\n",
        "plt.imshow(a,cmap='gray', vmin=0, vmax=255)\n",
        "plt.imsave('test.png', a, cmap='gray', vmin=0, vmax=255)"
      ],
      "metadata": {
        "colab": {
          "base_uri": "https://localhost:8080/",
          "height": 282
        },
        "id": "GNAGnVgXSwrt",
        "outputId": "dfc6fa97-6123-485f-a5e4-902cdab627b2"
      },
      "execution_count": 40,
      "outputs": [
        {
          "output_type": "stream",
          "name": "stdout",
          "text": [
            "(28, 28)\n"
          ]
        },
        {
          "output_type": "display_data",
          "data": {
            "text/plain": [
              "<Figure size 432x288 with 1 Axes>"
            ],
            "image/png": "[encoded data removed]"
          },
          "metadata": {
            "needs_background": "light"
          }
        }
      ]
    },
    {
      "cell_type": "code",
      "source": [
        "#PREDICTING\n",
        "\n",
        "fname = 'test.png'\n",
        "image = Image.open(fname).convert(\"L\")\n",
        "arr = np.asarray(image)\n",
        "plt.imshow(arr, cmap='gray', vmin=0, vmax=255)\n",
        "plt.show()\n",
        "\n",
        "\n",
        "pred = model.predict(a.reshape(1, 28, 28, 1))\n",
        "print(pred)\n",
        "\n",
        "\n"
      ],
      "metadata": {
        "colab": {
          "base_uri": "https://localhost:8080/",
          "height": 300
        },
        "id": "ItT6yqxfDDUG",
        "outputId": "fdcc7354-4800-4477-98e7-9e8940e27721"
      },
      "execution_count": 41,
      "outputs": [
        {
          "output_type": "display_data",
          "data": {
            "text/plain": [
              "<Figure size 432x288 with 1 Axes>"
            ],
            "image/png": "[encoded data removed]"
          },
          "metadata": {
            "needs_background": "light"
          }
        },
        {
          "output_type": "stream",
          "name": "stdout",
          "text": [
            "1/1 [==============================] - 0s 22ms/step\n",
            "[[0. 0. 0. 0. 0. 0. 0. 0. 1. 0.]]\n"
          ]
        }
      ]
    }
  ],
  "metadata": {
    "accelerator": "GPU",
    "colab": {
      "name": "mnist_convnet",
      "provenance": [],
      "include_colab_link": true
    },
    "kernelspec": {
      "display_name": "Python 3",
      "language": "python",
      "name": "python3"
    },
    "language_info": {
      "codemirror_mode": {
        "name": "ipython",
        "version": 3
      },
      "file_extension": ".py",
      "mimetype": "text/x-python",
      "name": "python",
      "nbconvert_exporter": "python",
      "pygments_lexer": "ipython3",
      "version": "3.7.0"
    }
  },
  "nbformat": 4,
  "nbformat_minor": 0
}